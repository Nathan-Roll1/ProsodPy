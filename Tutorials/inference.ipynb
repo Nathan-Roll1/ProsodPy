{
  "cells": [
    {
      "cell_type": "markdown",
      "metadata": {
        "id": "view-in-github",
        "colab_type": "text"
      },
      "source": [
        "<a href=\"https://colab.research.google.com/github/Nathan-Roll1/ProsodPy/blob/main/Tutorials/inference.ipynb\" target=\"_parent\"><img src=\"https://colab.research.google.com/assets/colab-badge.svg\" alt=\"Open In Colab\"/></a>"
      ]
    },
    {
      "cell_type": "markdown",
      "metadata": {
        "id": "8e5Xkm_Skbt3"
      },
      "source": [
        "# Setup"
      ]
    },
    {
      "cell_type": "code",
      "execution_count": 1,
      "metadata": {
        "colab": {
          "base_uri": "https://localhost:8080/"
        },
        "id": "oav_w8Uvk2Em",
        "outputId": "1af068fd-7f74-403a-810c-36a672c99c4b"
      },
      "outputs": [
        {
          "output_type": "stream",
          "name": "stdout",
          "text": [
            "Cloning into 'ProsodPy'...\n",
            "remote: Enumerating objects: 303, done.\u001b[K\n",
            "remote: Counting objects: 100% (127/127), done.\u001b[K\n",
            "remote: Compressing objects: 100% (89/89), done.\u001b[K\n",
            "remote: Total 303 (delta 43), reused 100 (delta 31), pack-reused 176\u001b[K\n",
            "Receiving objects: 100% (303/303), 46.97 MiB | 15.98 MiB/s, done.\n",
            "Resolving deltas: 100% (113/113), done.\n"
          ]
        }
      ],
      "source": [
        "try:\n",
        "  shutil.rmtree('ProsodPy')\n",
        "except:\n",
        "  pass\n",
        "!git clone https://github.com/Nathan-Roll1/ProsodPy\n",
        "\n",
        "import ProsodPy.ProsodPy as PP\n",
        "from tqdm import tqdm"
      ]
    },
    {
      "cell_type": "code",
      "source": [
        "# install backwards compatible version of Tensorflow ----------\n",
        "# this can take a little bit...\n",
        "!pip install tensorflow==2.7.0\n",
        "import tensorflow as tf\n",
        "print(tf.__version__)\n",
        "#--------------------------------------------------------------"
      ],
      "metadata": {
        "id": "8l9I57gzGceA"
      },
      "execution_count": null,
      "outputs": []
    },
    {
      "cell_type": "code",
      "source": [
        "# define MFCC segments for train/test purposes ---------------\n",
        "set_indices = {'pre':'[:,:512]',\n",
        "               'h_pre':'[:,256:512]',\n",
        "               'bound':'[:,lower_mid:upper_mid]',\n",
        "               'h_bound':'[:,lower_mid+128:upper_mid-128]',\n",
        "               'post':'[:,-512:][:,::-1]',\n",
        "               'h_post':'[:,-256:][:,::-1]'}\n",
        "#--------------------------------------------------------------"
      ],
      "metadata": {
        "id": "EXVs_dAXGAcK"
      },
      "execution_count": 3,
      "outputs": []
    },
    {
      "cell_type": "code",
      "execution_count": 4,
      "metadata": {
        "id": "8N5eV3xcxxoy"
      },
      "outputs": [],
      "source": [
        "# load feed order for OLS -------------------------------------\n",
        "with open('ProsodPy/Models/Metadata/feed_order.pickle', 'rb') as handle:\n",
        "  feed_order = PP.pickle.load(handle)\n",
        "#--------------------------------------------------------------"
      ]
    },
    {
      "cell_type": "code",
      "source": [
        "# load NNs\n",
        "models = PP.os.listdir('ProsodPy/Models/Model Files')"
      ],
      "metadata": {
        "id": "IDgX5zspDqvm"
      },
      "execution_count": 5,
      "outputs": []
    },
    {
      "cell_type": "code",
      "source": [
        "# load OLS model\n",
        "with open('ProsodPy/Models/Model Files/OLS.pickle', 'rb') as handle:\n",
        "  OLS = PP.pickle.load(handle)"
      ],
      "metadata": {
        "id": "Jk5ZpMr2HdcH"
      },
      "execution_count": 6,
      "outputs": []
    },
    {
      "cell_type": "code",
      "source": [
        "# specify boundary break point\n",
        "h = 512\n",
        "\n",
        "# ... and 1/4|3/4 points\n",
        "lower_mid, upper_mid = int(h-h/2),int(h+h/2)"
      ],
      "metadata": {
        "id": "gLkRaxEXEUdT"
      },
      "execution_count": 7,
      "outputs": []
    },
    {
      "cell_type": "markdown",
      "source": [
        "# Generate Predicted Boundaries"
      ],
      "metadata": {
        "id": "Nyj_vZpEGp6Q"
      }
    },
    {
      "cell_type": "code",
      "execution_count": 8,
      "metadata": {
        "id": "jCj1szqMkOaq"
      },
      "outputs": [],
      "source": [
        "# load test file --------------------------------------------\n",
        "import urllib.request\n",
        "\n",
        "# if remote, specify path to audio file\n",
        "audio_path = 'https://www2.cs.uic.edu/~i101/SoundFiles/gettysburg.wav'\n",
        "\n",
        "# download sample audio file\n",
        "urllib.request.urlretrieve(audio_path, 'gettysburg.wav')\n",
        "\n",
        "# load the audio array with a sample rate of 8 kHz\n",
        "audio_array = PP.librosa.load('gettysburg.wav',sr=8000)[0]\n",
        "# -----------------------------------------------------------"
      ]
    },
    {
      "cell_type": "code",
      "execution_count": 9,
      "metadata": {
        "id": "AJ9FTzJutckX"
      },
      "outputs": [],
      "source": [
        "# generate MFCC and potential (heuristic) boundaries (dont change parameters!!)\n",
        "boundary_mfcc, __, boundaries = PP.MFCC_preprocess(\n",
        "    audio_array, PP.np.array([0]), hop_length=16, n_mfcc = 15, n_fft=743, n_frames = 1024\n",
        "    )\n",
        "\n",
        "# shift axes\n",
        "boundary_mfcc = boundary_mfcc.transpose(0,2,1)\n",
        "# ------------------------------------------------------------------------------"
      ]
    },
    {
      "cell_type": "code",
      "source": [
        "# make inferences on CNNs and RNNs ---------------------------------------------\n",
        "\n",
        "# initialize prediction dictionary\n",
        "outputs_dict = {}\n",
        "\n",
        "# for each MFCC subset...\n",
        "for k, s in tqdm(set_indices.items()):\n",
        "\n",
        "  # get the corresponding RNN & CNN\n",
        "  mods = [x for x in models if (k in x)&(not f'h_{k}' in x)]\n",
        "\n",
        "  # for each of those models...\n",
        "  for m in mods:\n",
        "\n",
        "    # load the model\n",
        "    r = tf.keras.models.load_model(f'ProsodPy/Models/Model Files/{m}')\n",
        "\n",
        "    # generate inference and add to prediction dictionary\n",
        "    if 'cnn' in m:\n",
        "      t = 'cnn'\n",
        "      outputs_dict[f'{k}_{t}'] = r.predict(PP.np.expand_dims(eval(f'boundary_mfcc{s}'),3))\n",
        "    else:\n",
        "      t = 'rnn'\n",
        "      outputs_dict[f'{k}_{t}'] = r.predict(eval(f'boundary_mfcc{s}'))\n",
        "# ------------------------------------------------------------------------------"
      ],
      "metadata": {
        "colab": {
          "base_uri": "https://localhost:8080/"
        },
        "id": "FI0m9GoeEAYs",
        "outputId": "020d92c0-1dd9-4ee3-a01d-03cc0a80277f"
      },
      "execution_count": 10,
      "outputs": [
        {
          "output_type": "stream",
          "name": "stderr",
          "text": [
            "100%|██████████| 6/6 [00:20<00:00,  3.36s/it]\n"
          ]
        }
      ]
    },
    {
      "cell_type": "code",
      "source": [
        "# create prediction dataframe --------------------------------------------------\n",
        "\n",
        "# initialize DF\n",
        "df = PP.pd.DataFrame()\n",
        "\n",
        "# add each prediction set to the data frame\n",
        "for c,d in outputs_dict.items():\n",
        "  df[c] = [x[0] for x in d]\n",
        "\n",
        "# index DF at boundary position\n",
        "df.index = boundaries\n",
        "# ------------------------------------------------------------------------------"
      ],
      "metadata": {
        "id": "6UfEkreEFNRw"
      },
      "execution_count": 11,
      "outputs": []
    },
    {
      "cell_type": "code",
      "source": [
        "# make predictions\n",
        "df['pred'] = OLS.predict(df[feed_order].values)"
      ],
      "metadata": {
        "id": "3Bt-whuUI5or"
      },
      "execution_count": 12,
      "outputs": []
    },
    {
      "cell_type": "code",
      "source": [
        "# plot predictions on subset\n",
        "PP.waveform_plot(audio_array, boundaries, df, i=5, threshold = 0.5)"
      ],
      "metadata": {
        "colab": {
          "base_uri": "https://localhost:8080/",
          "height": 145
        },
        "id": "KIyTp2j7IP4L",
        "outputId": "ec76fab6-b0ff-4f27-fea0-ee396d0a8f2b"
      },
      "execution_count": 13,
      "outputs": [
        {
          "output_type": "display_data",
          "data": {
            "text/plain": [
              "<Figure size 1000x104.167 with 1 Axes>"
            ],
            "image/png": "[encoded data removed]"
          },
          "metadata": {
            "needs_background": "light"
          }
        }
      ]
    },
    {
      "cell_type": "code",
      "source": [
        "# export predictions to csv ----------------------------------------------------\n",
        "\n",
        "# get prediction column from dataframe\n",
        "output = df['pred']\n",
        "\n",
        "# timestamp back into seconds\n",
        "output.index = output.index/8000\n",
        "\n",
        "# save to path\n",
        "PP.pd.DataFrame(output).to_csv('boundaries.csv')\n",
        "# ------------------------------------------------------------------------------"
      ],
      "metadata": {
        "id": "Yh6Qy2qUSgAy"
      },
      "execution_count": 14,
      "outputs": []
    }
  ],
  "metadata": {
    "accelerator": "GPU",
    "colab": {
      "background_execution": "on",
      "collapsed_sections": [
        "wNUd0jkLz7Qd",
        "Y-oYnh01u5Ep"
      ],
      "machine_shape": "hm",
      "name": "inference",
      "provenance": [],
      "include_colab_link": true
    },
    "gpuClass": "standard",
    "kernelspec": {
      "display_name": "Python 3",
      "name": "python3"
    },
    "language_info": {
      "name": "python"
    }
  },
  "nbformat": 4,
  "nbformat_minor": 0
}