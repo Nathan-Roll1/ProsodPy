{
  "cells": [
    {
      "cell_type": "markdown",
      "metadata": {
        "id": "view-in-github",
        "colab_type": "text"
      },
      "source": [
        "<a href=\"https://colab.research.google.com/github/Nathan-Roll1/ProsodPy/blob/main/Tutorials/data_generation.ipynb\" target=\"_parent\"><img src=\"https://colab.research.google.com/assets/colab-badge.svg\" alt=\"Open In Colab\"/></a>"
      ]
    },
    {
      "cell_type": "code",
      "execution_count": null,
      "metadata": {
        "colab": {
          "base_uri": "https://localhost:8080/"
        },
        "id": "Ut8CQNbTTrCk",
        "outputId": "bfb500db-08ac-45af-bed9-1fde0cda8411"
      },
      "outputs": [
        {
          "output_type": "stream",
          "name": "stdout",
          "text": [
            "Mounted at /content/drive\n"
          ]
        }
      ],
      "source": [
        "# Mount necessary data files from Google Drive\n",
        "from google.colab import drive\n",
        "drive.mount('/content/drive', force_remount=True)\n",
        "from tqdm import tqdm\n",
        "import shutil"
      ]
    },
    {
      "cell_type": "code",
      "execution_count": null,
      "metadata": {
        "colab": {
          "base_uri": "https://localhost:8080/"
        },
        "id": "zuH-RcajOSRd",
        "outputId": "13258d6a-17bf-41bb-a78b-1e37430fc1c1"
      },
      "outputs": [
        {
          "output_type": "stream",
          "name": "stdout",
          "text": [
            "Cloning into 'ProsodPy'...\n",
            "remote: Enumerating objects: 180, done.\u001b[K\n",
            "remote: Counting objects: 100% (4/4), done.\u001b[K\n",
            "remote: Compressing objects: 100% (4/4), done.\u001b[K\n",
            "remote: Total 180 (delta 0), reused 0 (delta 0), pack-reused 176\u001b[K\n",
            "Receiving objects: 100% (180/180), 22.99 MiB | 18.39 MiB/s, done.\n",
            "Resolving deltas: 100% (70/70), done.\n"
          ]
        }
      ],
      "source": [
        "# Use functions for preprocessing\n",
        "try:\n",
        "  shutil.rmtree('ProsodPy')\n",
        "except:\n",
        "  pass\n",
        "!git clone https://github.com/Nathan-Roll1/ProsodPy\n",
        "\n",
        "from ProsodPy.ProsodPy import *\n",
        "\n",
        "# plotting options intended for 20x3 dimensions\n",
        "plt.rcParams[\"figure.figsize\"] = (20,3)"
      ]
    },
    {
      "cell_type": "code",
      "execution_count": null,
      "metadata": {
        "id": "b_13umE9TexQ"
      },
      "outputs": [],
      "source": [
        "# path to resampled discourse audio\n",
        "init_path = 'drive/Shareddrives/Ling Thesis/resampled/'\n",
        "\n",
        "# get name of each file\n",
        "fs = os.listdir(init_path)\n",
        "\n",
        "# merge names with path to generate full path\n",
        "fs = [init_path + x for x in fs]"
      ]
    },
    {
      "cell_type": "code",
      "execution_count": null,
      "metadata": {
        "id": "jiIG5XaOfGeV"
      },
      "outputs": [],
      "source": [
        "# path to transcripts\n",
        "text_path = 'drive/Shareddrives/Rezonator Data/SBCSAE/'\n",
        "\n",
        "# for every audio file...\n",
        "for n, f in enumerate(tqdm(fs)):\n",
        "\n",
        "  # get matching transcript file\n",
        "  tt = f.split('/')[-1].split('_')[0]\n",
        "  txt = text_path + tt +'.cha'\n",
        "\n",
        "  # identify boundary timestamps\n",
        "  boundaries = get_boundaries(txt)\n",
        "\n",
        "  # adjust for 8k sample rate\n",
        "  boundaries = boundaries*8000 \n",
        "\n",
        "  # load audio file\n",
        "  with open(f, 'rb') as handle:\n",
        "    audio_array = pickle.load(handle)\n",
        "    \n",
        "  # generate features and labels\n",
        "  boundary_mfcc, labels, __ = MFCC_preprocess(audio_array, boundaries, hop_length=16, n_mfcc = 15, n_fft=743, n_frames = 1024, normalize=True)\n",
        "\n",
        "  # negative sample false labels to equalize classes\n",
        "  \n",
        "  size = sum(labels==1)\n",
        "  indicies = list(np.random.choice(np.where(labels == 0)[0], int(size)))\n",
        "  indicies += list(np.where(labels == 1)[0])\n",
        "\n",
        "  # apply selected indices to featuresets and labels\n",
        "  labels = labels[indicies] \n",
        "  boundary_mfcc = boundary_mfcc[indicies]\n",
        "\n",
        "  # save features\n",
        "  with open(f'drive/Shareddrives/Ling Thesis/PREPROCESSED/features/{tt}_hop16_coef15_normalized.pickle', 'wb') as handle:\n",
        "    pickle.dump(boundary_mfcc, handle, protocol=pickle.HIGHEST_PROTOCOL)\n",
        "\n",
        "  # save labels\n",
        "  with open(f'drive/Shareddrives/Ling Thesis/PREPROCESSED/labels/{tt}_hop16_coef15_normalized.pickle', 'wb') as handle:\n",
        "    pickle.dump(labels, handle, protocol=pickle.HIGHEST_PROTOCOL)"
      ]
    }
  ],
  "metadata": {
    "colab": {
      "name": "data_generation",
      "provenance": [],
      "authorship_tag": "ABX9TyN7sY4QfVzyVpu+m7ym2Xew",
      "include_colab_link": true
    },
    "kernelspec": {
      "display_name": "Python 3",
      "name": "python3"
    },
    "language_info": {
      "name": "python"
    }
  },
  "nbformat": 4,
  "nbformat_minor": 0
}