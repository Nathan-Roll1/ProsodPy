{
  "cells": [
    {
      "cell_type": "markdown",
      "metadata": {
        "id": "view-in-github",
        "colab_type": "text"
      },
      "source": [
        "<a href=\"https://colab.research.google.com/github/Nathan-Roll1/ProsodPy/blob/main/Tutorials/prep_training_evaluation.ipynb\" target=\"_parent\"><img src=\"https://colab.research.google.com/assets/colab-badge.svg\" alt=\"Open In Colab\"/></a>"
      ]
    },
    {
      "cell_type": "markdown",
      "metadata": {
        "id": "gggGu0Bfbl8m"
      },
      "source": [
        "# Setup"
      ]
    },
    {
      "cell_type": "code",
      "execution_count": null,
      "metadata": {
        "colab": {
          "base_uri": "https://localhost:8080/"
        },
        "id": "Rl6Ajf0oDpDR",
        "outputId": "68efe66c-ef12-406f-92e7-290141c8ba94"
      },
      "outputs": [
        {
          "output_type": "stream",
          "name": "stdout",
          "text": [
            "Mounted at /content/drive\n"
          ]
        }
      ],
      "source": [
        "# mount data from Google Drive\n",
        "from google.colab import drive\n",
        "drive.mount('/content/drive', force_remount=True)\n",
        "#--------------------------------------------------------------"
      ]
    },
    {
      "cell_type": "code",
      "execution_count": null,
      "metadata": {
        "id": "KfbBkKEG7vx5"
      },
      "outputs": [],
      "source": [
        "# set random seed\n",
        "from numpy.random import seed\n",
        "seed(42)\n",
        "#--------------------------------------------------------------"
      ]
    },
    {
      "cell_type": "code",
      "source": [
        "# install backwards compatible version of Tensorflow ----------\n",
        "!pip install tensorflow==2.7.0\n",
        "import tensorflow as tf\n",
        "print(tf.__version__)\n",
        "#--------------------------------------------------------------"
      ],
      "metadata": {
        "id": "_rhMWscBrKtI"
      },
      "execution_count": null,
      "outputs": []
    },
    {
      "cell_type": "code",
      "execution_count": null,
      "metadata": {
        "id": "9hizDSSo0UHt"
      },
      "outputs": [],
      "source": [
        "#import modules\n",
        "#--------------------------------------------------------------\n",
        "import os\n",
        "\n",
        "import numpy as np\n",
        "import matplotlib.pyplot as plt\n",
        "import seaborn as sns\n",
        "sns.set()\n",
        "\n",
        "import pandas as pd\n",
        "import re\n",
        "import librosa   \n",
        "import pickle\n",
        "import shutil\n",
        "import gc\n",
        "\n",
        "from tqdm import tqdm\n",
        "\n",
        "from sklearn.linear_model import LinearRegression\n",
        "from sklearn.metrics import accuracy_score, f1_score, precision_score, recall_score\n",
        "from sklearn.model_selection import train_test_split\n",
        "\n",
        "from keras.callbacks import ModelCheckpoint\n",
        "from keras.models import Sequential\n",
        "from keras.layers import LSTM, Dense, Dropout, Masking, Embedding, Input, Lambda, Flatten, Conv2D, MaxPooling2D, Dropout\n",
        "from keras.models import Sequential\n",
        "from keras import optimizers\n",
        "#--------------------------------------------------------------"
      ]
    },
    {
      "cell_type": "code",
      "source": [
        "# define MFCC segments for train/test purposes ---------------\n",
        "set_indices = {'pre':'[:,:512]',\n",
        "               'h_pre':'[:,256:512]',\n",
        "               'bound':'[:,lower_mid:upper_mid]',\n",
        "               'h_bound':'[:,lower_mid+128:upper_mid-128]',\n",
        "               'post':'[:,-512:][:,::-1]',\n",
        "               'h_post':'[:,-256:][:,::-1]'}\n",
        "#--------------------------------------------------------------"
      ],
      "metadata": {
        "id": "H9o1QpWnLUQn"
      },
      "execution_count": null,
      "outputs": []
    },
    {
      "cell_type": "markdown",
      "metadata": {
        "id": "PbbecscBz3St"
      },
      "source": [
        "# One Time Merging [Run only once]"
      ]
    },
    {
      "cell_type": "code",
      "execution_count": null,
      "metadata": {
        "id": "IBDAk_pz9d_k"
      },
      "outputs": [],
      "source": [
        "# create list of file suffixes\n",
        "ns = [f'{x:02d}' for x in range(1,61)]"
      ]
    },
    {
      "cell_type": "code",
      "execution_count": null,
      "metadata": {
        "id": "X1xDjBqXDVOW"
      },
      "outputs": [],
      "source": [
        "# carry over naming convention from Data_Generation\n",
        "tail = \"_hop16_coef15_normalized\""
      ]
    },
    {
      "cell_type": "code",
      "execution_count": null,
      "metadata": {
        "colab": {
          "base_uri": "https://localhost:8080/"
        },
        "id": "4SRIfnLt9qEI",
        "outputId": "e5b2751f-f4bf-4f86-c744-1271f2ad5c38"
      },
      "outputs": [
        {
          "name": "stderr",
          "output_type": "stream",
          "text": [
            "100%|██████████| 60/60 [00:39<00:00,  1.51it/s]\n"
          ]
        }
      ],
      "source": [
        "# merge and save joined label file ---------------------------\n",
        "y_s = []\n",
        "for i, n in enumerate(tqdm(ns)):\n",
        "  with open(f'drive/Shareddrives/Ling Thesis/PREPROCESSED/labels/{n}{tail}.pickle', 'rb') as handle:\n",
        "    y_s.append(pickle.load(handle))\n",
        "\n",
        "y = np.concatenate(y_s)\n",
        "del y_s\n",
        "\n",
        "with open(f'drive/Shareddrives/Ling Thesis/PREPROCESSED/Joined/y.pickle', 'wb') as handle:\n",
        "  pickle.dump(y, handle, protocol=pickle.HIGHEST_PROTOCOL)\n",
        "\n",
        "del y\n",
        "#--------------------------------------------------------------"
      ]
    },
    {
      "cell_type": "code",
      "execution_count": null,
      "metadata": {
        "colab": {
          "base_uri": "https://localhost:8080/"
        },
        "id": "9GVmpxXHed5A",
        "outputId": "adbcf104-a77f-4d33-da30-405d4f186b17"
      },
      "outputs": [
        {
          "name": "stderr",
          "output_type": "stream",
          "text": [
            "100%|██████████| 60/60 [02:50<00:00,  2.85s/it]\n"
          ]
        }
      ],
      "source": [
        "# merge and save joined feature file --------------------------\n",
        "feats = []\n",
        "\n",
        "for i, n in enumerate(tqdm(ns)):\n",
        "  with open(f'drive/Shareddrives/Ling Thesis/PREPROCESSED/features/{n}{tail}.pickle', 'rb') as handle:\n",
        "    feats.append(pickle.load(handle))\n",
        "feats = np.concatenate(feats).transpose(0,2,1)\n",
        "\n",
        "with open(f'drive/Shareddrives/Ling Thesis/PREPROCESSED/Joined/X.pickle', 'wb') as handle:\n",
        "  pickle.dump(feats, handle, protocol=pickle.HIGHEST_PROTOCOL)\n",
        "del feats\n",
        "#--------------------------------------------------------------"
      ]
    },
    {
      "cell_type": "markdown",
      "metadata": {
        "id": "wNUd0jkLz7Qd"
      },
      "source": [
        "# Init"
      ]
    },
    {
      "cell_type": "code",
      "execution_count": null,
      "metadata": {
        "id": "0PIwb2sbrfiI"
      },
      "outputs": [],
      "source": [
        "# load features and labels ------------------------------------\n",
        "with open(f'drive/Shareddrives/Ling Thesis/PREPROCESSED/Joined/X.pickle', 'rb') as handle:\n",
        "  X = pickle.load(handle)\n",
        "\n",
        "with open('drive/Shareddrives/Ling Thesis/PREPROCESSED/Joined/y.pickle', 'rb') as handle:\n",
        "  y = pickle.load(handle)\n",
        "#--------------------------------------------------------------"
      ]
    },
    {
      "cell_type": "code",
      "execution_count": null,
      "metadata": {
        "colab": {
          "base_uri": "https://localhost:8080/"
        },
        "id": "cLKGBZu9NFIy",
        "outputId": "8cad6d5e-100a-45a3-ff3f-24c23c7b7f53"
      },
      "outputs": [
        {
          "output_type": "execute_result",
          "data": {
            "text/plain": [
              "((128508, 1024, 15), (128508,))"
            ]
          },
          "metadata": {},
          "execution_count": 7
        }
      ],
      "source": [
        "# verify matching feat/lab lengths (128508)\n",
        "X.shape, y.shape "
      ]
    },
    {
      "cell_type": "code",
      "execution_count": null,
      "metadata": {
        "id": "BLocpHdcy18C"
      },
      "outputs": [],
      "source": [
        "# get boundary point\n",
        "h = X.shape[1]/2\n",
        "\n",
        "# ... and 1/4|3/4 points\n",
        "lower_mid, upper_mid = int(h-h/2),int(h+h/2)"
      ]
    },
    {
      "cell_type": "code",
      "execution_count": null,
      "metadata": {
        "id": "hNbiICyeClsZ"
      },
      "outputs": [],
      "source": [
        "# generate shuffle pattern\n",
        "shuffler = np.random.RandomState(seed=42).permutation(len(X)) \n",
        "\n",
        "# split train and test sets (validation during training)\n",
        "train_test_split_index = round(len(y)*.9)\n",
        "\n",
        "# shuffle features ---------------------------------------\n",
        "X = X[shuffler] \n",
        "X_train = X[:train_test_split_index]\n",
        "X_test = X[train_test_split_index:]\n",
        "#---------------------------------------------------------\n",
        "\n",
        "#... and labels ------------------------------------------\n",
        "y = y[shuffler] \n",
        "y_train = y[:train_test_split_index]\n",
        "y_test = y[train_test_split_index:]\n",
        "#---------------------------------------------------------"
      ]
    },
    {
      "cell_type": "code",
      "execution_count": null,
      "metadata": {
        "id": "2w7WebnpHWBg"
      },
      "outputs": [],
      "source": [
        "#... set image parameters --------------------------------\n",
        "plt.rcParams[\"figure.figsize\"] = (5,5)\n",
        "plt.rcParams[\"figure.dpi\"] = 250\n",
        "#---------------------------------------------------------"
      ]
    },
    {
      "cell_type": "code",
      "execution_count": null,
      "metadata": {
        "colab": {
          "base_uri": "https://localhost:8080/",
          "height": 586
        },
        "id": "IPThfGXnHlfM",
        "outputId": "49c5c61e-7203-44f7-81a0-b797673c9447"
      },
      "outputs": [
        {
          "output_type": "stream",
          "name": "stderr",
          "text": [
            "WARNING:matplotlib.font_manager:findfont: Font family ['Times New Roman'] not found. Falling back to DejaVu Sans.\n"
          ]
        },
        {
          "output_type": "display_data",
          "data": {
            "text/plain": [
              "<Figure size 1250x1250 with 1 Axes>"
            ],
            "image/png": "[encoded data removed]"
          },
          "metadata": {}
        },
        {
          "output_type": "display_data",
          "data": {
            "text/plain": [
              "<Figure size 1250x1250 with 1 Axes>"
            ],
            "image/png": "[encoded data removed]"
          },
          "metadata": {}
        },
        {
          "output_type": "display_data",
          "data": {
            "text/plain": [
              "<Figure size 1250x1250 with 1 Axes>"
            ],
            "image/png": "[encoded data removed]"
          },
          "metadata": {}
        },
        {
          "output_type": "display_data",
          "data": {
            "text/plain": [
              "<Figure size 1250x1250 with 1 Axes>"
            ],
            "image/png": "[encoded data removed]"
          },
          "metadata": {}
        },
        {
          "output_type": "display_data",
          "data": {
            "text/plain": [
              "<Figure size 1250x1250 with 1 Axes>"
            ],
            "image/png": "[encoded data removed]"
          },
          "metadata": {}
        },
        {
          "output_type": "display_data",
          "data": {
            "text/plain": [
              "<Figure size 1250x1250 with 1 Axes>"
            ],
            "image/png": "[encoded data removed]"
          },
          "metadata": {}
        }
      ],
      "source": [
        "#... plot sample sets ------------------------------------\n",
        "for k, s in set_indices.items():\n",
        "  plt.imshow(eval(f'X{s}')[0].T)\n",
        "  plt.axis('off')\n",
        "  plt.show()\n",
        "#---------------------------------------------------------"
      ]
    },
    {
      "cell_type": "markdown",
      "metadata": {
        "id": "SD9UnoGVu2vm"
      },
      "source": [
        "# RNN"
      ]
    },
    {
      "cell_type": "code",
      "execution_count": null,
      "metadata": {
        "id": "ZJEwzlBjgEtf"
      },
      "outputs": [],
      "source": [
        "# define rnn architecture ---------------------------------------------------------------\n",
        "def rnn_model(k,i):\n",
        "\n",
        "  #specify path to save\n",
        "  path = f'drive/Shareddrives/Ling Thesis/checkpoints/rnn_checkpoints_{k}'\n",
        "  print(path)\n",
        "\n",
        "  #remove anything existing at path\n",
        "  try:\n",
        "    os.mkdir(path)\n",
        "  except:\n",
        "    shutil.rmtree(path)\n",
        "    os.mkdir(path)\n",
        "\n",
        "  # define checkpoint w/ naming convention\n",
        "  checkpoint_rnn = ModelCheckpoint(f'{path}/{k}'+'_rnn-{epoch:03d}-{loss:03f}-{val_loss:03f}.h5', verbose=1, monitor='val_loss',save_best_only=True, mode='auto')\n",
        "\n",
        "  # init sequential model\n",
        "  rnn_model = Sequential()\n",
        "\n",
        "  # define layers\n",
        "  rnn_model.add(LSTM(128, return_sequences=True, recurrent_dropout=0,dropout=0.2,recurrent_activation='sigmoid'))\n",
        "  rnn_model.add(LSTM(64, return_sequences=False, dropout=0.2, recurrent_dropout=0,recurrent_activation='sigmoid'))\n",
        "  rnn_model.add(Dense(32, activation='tanh'))\n",
        "  rnn_model.add(Dropout(.2))\n",
        "  rnn_model.add(Dense(1, activation='sigmoid'))\n",
        "\n",
        "  rnn_model.compile(optimizer='adam', loss='MSE')\n",
        "\n",
        "  # train on given subset (i)\n",
        "  rnn_model.fit(eval(f'X_train{i}'),  y_train, batch_size=512, epochs=45, callbacks=[checkpoint_rnn], validation_split=1/9)\n",
        "# -------------------------------------------------------------------------------------------"
      ]
    },
    {
      "cell_type": "code",
      "execution_count": null,
      "metadata": {
        "id": "yZGQnDNxDMod"
      },
      "outputs": [],
      "source": [
        "# run rnn on all sets specified in 'Setup' --------------------------\n",
        "for k, i in set_indices.items():\n",
        "\n",
        "  # clear GPU memory\n",
        "  tf.keras.backend.clear_session()\n",
        "  gc.collect()\n",
        "\n",
        "  # build/train/save model\n",
        "  rnn_model(k,i)\n",
        "# --------------------------------------------------------------------"
      ]
    },
    {
      "cell_type": "markdown",
      "metadata": {
        "id": "Y-oYnh01u5Ep"
      },
      "source": [
        "# CNN"
      ]
    },
    {
      "cell_type": "code",
      "execution_count": null,
      "metadata": {
        "id": "wp5oqEKV5AVc"
      },
      "outputs": [],
      "source": [
        "# define cnn architecture ---------------------------------------------------------------\n",
        "def cnn_model(k,i):\n",
        "\n",
        "  #specify path to save\n",
        "  path = f'drive/Shareddrives/Ling Thesis/checkpoints/cnn_checkpoints_{k}'\n",
        "  print(path)\n",
        "\n",
        "  #remove anything existing at path\n",
        "  try:\n",
        "    os.mkdir(path)\n",
        "  except:\n",
        "    shutil.rmtree(path)\n",
        "    os.mkdir(path)\n",
        "\n",
        "  # define checkpoint w/ naming convention\n",
        "  checkpoint_cnn = ModelCheckpoint(f'{path}/{k}'+'_cnn-{epoch:03d}-{loss:03f}-{val_loss:03f}.h5', verbose=1, monitor='val_loss',save_best_only=True, mode='auto')\n",
        "\n",
        "  # init sequential model\n",
        "  cnn_model = Sequential()\n",
        "\n",
        "  # define layers\n",
        "  cnn_model = Sequential()\n",
        "  cnn_model.add(Conv2D(filters=128,kernel_size=2,padding=\"same\",activation=\"relu\"))\n",
        "  cnn_model.add(Conv2D(filters=64,kernel_size=2,padding=\"valid\",activation=\"relu\"))\n",
        "  cnn_model.add(tf.keras.layers.MaxPool2D(pool_size=2, strides=2))\n",
        "  cnn_model.add(Flatten())\n",
        "  cnn_model.add(Dense(8, activation='tanh'))\n",
        "  cnn_model.add(Dropout(.2))\n",
        "  cnn_model.add(Dense(1, activation='sigmoid'))\n",
        "\n",
        "  cnn_model.compile(optimizer='adam', loss='MSE')\n",
        "\n",
        "  # reshape for convolutional layers\n",
        "  xx = np.expand_dims(eval(f'X_train{i}'),3)\n",
        "\n",
        "  # train on given subset (i)\n",
        "  rnn_model.fit(xx,  y_train, batch_size=512, epochs=45, callbacks=[checkpoint_cnn], validation_split=1/9)\n",
        "# -------------------------------------------------------------------------------------------"
      ]
    },
    {
      "cell_type": "code",
      "execution_count": null,
      "metadata": {
        "id": "oAiBMj7qtN59"
      },
      "outputs": [],
      "source": [
        "# run rnn on all sets specified in 'Setup' --------------------------\n",
        "for k, i in set_indices.items():\n",
        "\n",
        "  # clear GPU memory\n",
        "  tf.keras.backend.clear_session()\n",
        "  gc.collect()\n",
        "\n",
        "  # build/train/save model\n",
        "  cnn_model(k,i)\n",
        "# --------------------------------------------------------------------"
      ]
    },
    {
      "cell_type": "markdown",
      "metadata": {
        "id": "ckIHjOEI_jR5"
      },
      "source": [
        "# OLS"
      ]
    },
    {
      "cell_type": "code",
      "execution_count": null,
      "metadata": {
        "id": "_gDnCBFlwteB"
      },
      "outputs": [],
      "source": [
        "# define function to retrieve the best models (on validation) --------------------------\n",
        "def get_best_callbacks():\n",
        "  models = []\n",
        "  for k,i in set_indices.items():\n",
        "    for mtype in ['cnn','rnn']:\n",
        "      path = f'drive/Shareddrives/Ling Thesis/checkpoints/{mtype}_checkpoints_{k}/'\n",
        "      nns = os.listdir(path)\n",
        "      max_epoch = max([x.split('-')[1] for x in nns])\n",
        "      nn =  [x for x in nns if x.split('-')[1] == max_epoch][0]\n",
        "      models.append(((k,i),path+nn))\n",
        "  return models\n",
        "# --------------------------------------------------------------------------------------"
      ]
    },
    {
      "cell_type": "code",
      "execution_count": null,
      "metadata": {
        "id": "nvGmGNYgyHeK",
        "colab": {
          "base_uri": "https://localhost:8080/"
        },
        "outputId": "32e2ee5e-5035-4dca-978e-a51bee9fc81d"
      },
      "outputs": [
        {
          "output_type": "stream",
          "name": "stdout",
          "text": [
            "pre drive/Shareddrives/Ling Thesis/checkpoints/cnn_checkpoints_pre/pre_cnn-040-0.218414-0.221026.h5\n",
            "pre drive/Shareddrives/Ling Thesis/checkpoints/rnn_checkpoints_pre/pre_rnn-026-0.201815-0.212274.h5\n",
            "h_pre drive/Shareddrives/Ling Thesis/checkpoints/cnn_checkpoints_h_pre/h_pre_cnn-039-0.219750-0.220789.h5\n",
            "h_pre drive/Shareddrives/Ling Thesis/checkpoints/rnn_checkpoints_h_pre/h_pre_rnn-015-0.206083-0.214536.h5\n",
            "bound drive/Shareddrives/Ling Thesis/checkpoints/cnn_checkpoints_bound/bound_cnn-040-0.209112-0.211751.h5\n",
            "bound drive/Shareddrives/Ling Thesis/checkpoints/rnn_checkpoints_bound/bound_rnn-007-0.245546-0.246018.h5\n",
            "h_bound drive/Shareddrives/Ling Thesis/checkpoints/cnn_checkpoints_h_bound/h_bound_cnn-038-0.213775-0.216071.h5\n",
            "h_bound drive/Shareddrives/Ling Thesis/checkpoints/rnn_checkpoints_h_bound/h_bound_rnn-045-0.208116-0.212998.h5\n",
            "post drive/Shareddrives/Ling Thesis/checkpoints/cnn_checkpoints_post/post_cnn-029-0.228427-0.234005.h5\n",
            "post drive/Shareddrives/Ling Thesis/checkpoints/rnn_checkpoints_post/post_rnn-026-0.221579-0.228236.h5\n",
            "h_post drive/Shareddrives/Ling Thesis/checkpoints/cnn_checkpoints_h_post/h_post_cnn-026-0.243519-0.244788.h5\n",
            "h_post drive/Shareddrives/Ling Thesis/checkpoints/rnn_checkpoints_h_post/h_post_rnn-006-0.245603-0.246624.h5\n"
          ]
        }
      ],
      "source": [
        "# generate individual model predictions ------------------------------------------------\n",
        "\n",
        "# call prior function, save to 'models' variable\n",
        "models = get_best_callbacks()\n",
        "\n",
        "# create empty prediction dictionary\n",
        "preds = {}\n",
        "\n",
        "# for each model...\n",
        "for l,m in models:\n",
        "\n",
        "  # clear GPU cache\n",
        "  tf.keras.backend.clear_session()\n",
        "  gc.collect()\n",
        "\n",
        "  # print subset and model path\n",
        "  print(l[0],m)\n",
        "  \n",
        "  # load the model\n",
        "  model = tf.keras.models.load_model(m)\n",
        "\n",
        "  # predict and save to pred dictionary\n",
        "  if 'rnn' in m:\n",
        "    preds[m] = model.predict(eval(f'X{l[1]}'))\n",
        "  else:\n",
        "    preds[m] = model.predict(np.expand_dims(eval(f'X{l[1]}'),3))\n",
        "\n",
        "  # delete model from memory\n",
        "  del model\n",
        "# --------------------------------------------------------------------------------------"
      ]
    },
    {
      "cell_type": "code",
      "execution_count": null,
      "metadata": {
        "id": "ISyfIkkWvH3U"
      },
      "outputs": [],
      "source": [
        "# create dataframe from predictions and save --------------------------------------------\n",
        "\n",
        "# initialize empty dataframe\n",
        "df = pd.DataFrame()\n",
        "\n",
        "# for each key/value pair in prediction dict...\n",
        "for c,d in preds.items():\n",
        "\n",
        "  # make col[key] = value\n",
        "  df[c] = [x[0] for x in d]\n",
        "\n",
        "# add labels column\n",
        "df['label'] = y\n",
        "\n",
        "# save the dataframe\n",
        "with open(f'drive/Shareddrives/Ling Thesis/Final Models/pred_df.pickle', 'wb') as handle:\n",
        "  pickle.dump(df, handle, protocol=pickle.HIGHEST_PROTOCOL)\n",
        "\n",
        "# --------------------------------------------------------------------------------------"
      ]
    },
    {
      "cell_type": "code",
      "source": [
        "# raname columns from model file to set name ------------------\n",
        "col_order = []\n",
        "\n",
        "for col in df.columns:\n",
        "  if 'drive' in col:\n",
        "    col_order.append(col.split('/')[-1].split('-')[0])\n",
        "# -------------------------------------------------------------"
      ],
      "metadata": {
        "id": "jOTY9dqh-Bge"
      },
      "execution_count": null,
      "outputs": []
    },
    {
      "cell_type": "code",
      "source": [
        "# safe col order before losing names in OLS ------------------\n",
        "with open('drive/Shareddrives/Ling Thesis/Final Models/feed_order.pickle', 'wb') as handle:\n",
        "  pickle.dump(col_order, handle, protocol=pickle.HIGHEST_PROTOCOL)\n",
        "# -------------------------------------------------------------"
      ],
      "metadata": {
        "id": "w7Pf0z0q-TCS"
      },
      "execution_count": null,
      "outputs": []
    },
    {
      "cell_type": "code",
      "execution_count": null,
      "metadata": {
        "id": "i3FZogzCzo09",
        "colab": {
          "base_uri": "https://localhost:8080/"
        },
        "outputId": "b9737d89-3f01-4611-fa21-6fc18d8525de"
      },
      "outputs": [
        {
          "output_type": "stream",
          "name": "stdout",
          "text": [
            "0.2556683333821138\n",
            "0.26664389676656264\n"
          ]
        }
      ],
      "source": [
        "# train and evaluate regression -------------------------------\n",
        "\n",
        "# fit OLS to training set\n",
        "model = LinearRegression()\n",
        "model = LinearRegression().fit(df.values[:,:-1][:train_test_split_index], df.values[:,-1][:train_test_split_index])\n",
        "\n",
        "# evaluate on test set (r^2)\n",
        "print(model.score(df.values[:,:-1][train_test_split_index:], df.values[:,-1][train_test_split_index:]))\n",
        "\n",
        "# ... and train set (r^2)\n",
        "print(model.score(df.values[:,:-1][:train_test_split_index], df.values[:,-1][:train_test_split_index]))\n",
        "\n",
        "# create new column in DF with OLS predictions\n",
        "df['OLS'] = model.predict(df.values[:,:-1])\n",
        "# -------------------------------------------------------------"
      ]
    },
    {
      "cell_type": "code",
      "source": [
        "# save model\n",
        "with open(f'drive/Shareddrives/Ling Thesis/Final Models/OLS.pickle', 'wb') as handle:\n",
        "  pickle.dump(model, handle, protocol=pickle.HIGHEST_PROTOCOL)"
      ],
      "metadata": {
        "id": "D_3QOV2p77wo"
      },
      "execution_count": null,
      "outputs": []
    },
    {
      "cell_type": "code",
      "source": [
        "# evaluate all models -----------------------------------------\n",
        "# create baseline prediction column\n",
        "df['ones'] = 1\n",
        "\n",
        "# evaluate metrics at thresholds of 0.37 and 0.5\n",
        "d = {}\n",
        "d1 = {}\n",
        "for d_i,t in zip([d,d1],[0.5,0.37]):\n",
        "  for col in df.columns:\n",
        "    if col not in ['label']:\n",
        "      name = col.split('/')[-1].split('-')[0]\n",
        "      print(name)\n",
        "\n",
        "      y_actual = df['label'][train_test_split_index:]\n",
        "      preds = df[col][train_test_split_index:]\n",
        "      y_pred = preds >= t\n",
        "      d_i[name] = [f1_score(y_actual, y_pred),precision_score(y_actual, y_pred),\n",
        "                      recall_score(y_actual, y_pred),accuracy_score(y_actual, y_pred)]\n",
        "# -------------------------------------------------------------"
      ],
      "metadata": {
        "colab": {
          "base_uri": "https://localhost:8080/"
        },
        "id": "4agrdb8j-2xQ",
        "outputId": "e77d4e49-4cf1-4025-8cd3-bc0d6f6a3f60"
      },
      "execution_count": null,
      "outputs": [
        {
          "output_type": "stream",
          "name": "stdout",
          "text": [
            "pre_cnn\n",
            "pre_rnn\n",
            "h_pre_cnn\n",
            "h_pre_rnn\n",
            "bound_cnn\n",
            "bound_rnn\n",
            "h_bound_cnn\n",
            "h_bound_rnn\n",
            "post_cnn\n",
            "post_rnn\n",
            "h_post_cnn\n",
            "h_post_rnn\n",
            "OLS\n",
            "ones\n",
            "pre_cnn\n",
            "pre_rnn\n",
            "h_pre_cnn\n",
            "h_pre_rnn\n",
            "bound_cnn\n",
            "bound_rnn\n",
            "h_bound_cnn\n",
            "h_bound_rnn\n",
            "post_cnn\n",
            "post_rnn\n",
            "h_post_cnn\n",
            "h_post_rnn\n",
            "OLS\n",
            "ones\n"
          ]
        }
      ]
    },
    {
      "cell_type": "code",
      "source": [
        "# format evaluation results @ 0.37 ----------------------------------\n",
        "results_df = pd.DataFrame(d).T.sort_values(by=3,ascending=False)\n",
        "results_df.columns = ['F1','Precision','Recall','Accuracy']\n",
        "results_df.to_latex(index=True,float_format=\"%.3f\")\n",
        "# -------------------------------------------------------------------"
      ],
      "metadata": {
        "colab": {
          "base_uri": "https://localhost:8080/",
          "height": 140
        },
        "id": "q6ZANoQIy7Em",
        "outputId": "4f496d57-a422-4bd2-d6f4-45f349a0748c"
      },
      "execution_count": null,
      "outputs": [
        {
          "output_type": "execute_result",
          "data": {
            "text/plain": [
              "'\\\\begin{tabular}{lrrrr}\\n\\\\toprule\\n{} &    F1 &  Precision &  Recall &  Accuracy \\\\\\\\\\n\\\\midrule\\nOLS         & 0.719 &      0.728 &   0.709 &     0.724 \\\\\\\\\\npre\\\\_rnn     & 0.683 &      0.707 &   0.660 &     0.695 \\\\\\\\\\nh\\\\_pre\\\\_rnn   & 0.679 &      0.693 &   0.666 &     0.687 \\\\\\\\\\nh\\\\_bound\\\\_rnn & 0.680 &      0.660 &   0.701 &     0.671 \\\\\\\\\\nbound\\\\_cnn   & 0.648 &      0.676 &   0.622 &     0.663 \\\\\\\\\\nh\\\\_bound\\\\_cnn & 0.657 &      0.655 &   0.659 &     0.658 \\\\\\\\\\nh\\\\_pre\\\\_cnn   & 0.645 &      0.636 &   0.655 &     0.642 \\\\\\\\\\npre\\\\_cnn     & 0.628 &      0.641 &   0.615 &     0.637 \\\\\\\\\\npost\\\\_rnn    & 0.614 &      0.650 &   0.582 &     0.636 \\\\\\\\\\npost\\\\_cnn    & 0.591 &      0.602 &   0.580 &     0.600 \\\\\\\\\\nbound\\\\_rnn   & 0.556 &      0.562 &   0.551 &     0.562 \\\\\\\\\\nh\\\\_post\\\\_rnn  & 0.530 &      0.566 &   0.499 &     0.560 \\\\\\\\\\nh\\\\_post\\\\_cnn  & 0.537 &      0.553 &   0.522 &     0.552 \\\\\\\\\\nones        & 0.665 &      0.498 &   1.000 &     0.498 \\\\\\\\\\n\\\\bottomrule\\n\\\\end{tabular}\\n'"
            ],
            "application/vnd.google.colaboratory.intrinsic+json": {
              "type": "string"
            }
          },
          "metadata": {},
          "execution_count": 24
        }
      ]
    },
    {
      "cell_type": "code",
      "source": [
        "# format evaluation results @ 0.5 -----------------------------------\n",
        "results_df = pd.DataFrame(d1).T.sort_values(by=0,ascending=False)\n",
        "results_df.columns = ['F1','Precision','Recall','Accuracy']\n",
        "results_df.to_latex(index=True,float_format=\"%.3f\")\n",
        "# -------------------------------------------------------------------"
      ],
      "metadata": {
        "colab": {
          "base_uri": "https://localhost:8080/",
          "height": 140
        },
        "id": "iTIH9VL24q4K",
        "outputId": "9f86ea2a-e076-4fdf-cf7f-3df05929ec27"
      },
      "execution_count": null,
      "outputs": [
        {
          "output_type": "execute_result",
          "data": {
            "text/plain": [
              "'\\\\begin{tabular}{lrrrr}\\n\\\\toprule\\n{} &    F1 &  Precision &  Recall &  Accuracy \\\\\\\\\\n\\\\midrule\\nOLS         & 0.739 &      0.650 &   0.855 &     0.699 \\\\\\\\\\npre\\\\_rnn     & 0.717 &      0.622 &   0.845 &     0.668 \\\\\\\\\\nh\\\\_pre\\\\_rnn   & 0.709 &      0.605 &   0.854 &     0.650 \\\\\\\\\\nh\\\\_bound\\\\_rnn & 0.703 &      0.595 &   0.859 &     0.639 \\\\\\\\\\nbound\\\\_cnn   & 0.694 &      0.607 &   0.812 &     0.644 \\\\\\\\\\nh\\\\_bound\\\\_cnn & 0.693 &      0.586 &   0.849 &     0.627 \\\\\\\\\\nh\\\\_pre\\\\_cnn   & 0.683 &      0.566 &   0.859 &     0.603 \\\\\\\\\\npost\\\\_rnn    & 0.681 &      0.565 &   0.857 &     0.601 \\\\\\\\\\npre\\\\_cnn     & 0.679 &      0.573 &   0.833 &     0.608 \\\\\\\\\\npost\\\\_cnn    & 0.666 &      0.536 &   0.879 &     0.561 \\\\\\\\\\nh\\\\_post\\\\_rnn  & 0.665 &      0.498 &   1.000 &     0.498 \\\\\\\\\\nbound\\\\_rnn   & 0.665 &      0.498 &   1.000 &     0.498 \\\\\\\\\\nones        & 0.665 &      0.498 &   1.000 &     0.498 \\\\\\\\\\nh\\\\_post\\\\_cnn  & 0.663 &      0.499 &   0.989 &     0.500 \\\\\\\\\\n\\\\bottomrule\\n\\\\end{tabular}\\n'"
            ],
            "application/vnd.google.colaboratory.intrinsic+json": {
              "type": "string"
            }
          },
          "metadata": {},
          "execution_count": 25
        }
      ]
    },
    {
      "cell_type": "code",
      "execution_count": null,
      "metadata": {
        "id": "glp4bwWwCCtb"
      },
      "outputs": [],
      "source": [
        "# bound regression output by [0,1]\n",
        "df['OLS'] = np.clip(df['OLS'],0,1)"
      ]
    },
    {
      "cell_type": "code",
      "execution_count": null,
      "metadata": {
        "id": "zKDlZTciAbdf"
      },
      "outputs": [],
      "source": [
        "# test metrics at all thresholds ------------------------------------\n",
        "d = {}\n",
        "\n",
        "# for each threshold...\n",
        "for threshold in np.linspace(0,1,201):\n",
        "\n",
        "  # take actual labels from dataframe\n",
        "  y_actual = df['label']\n",
        "\n",
        "  # binary predictions from True/False comparison to given threshold\n",
        "  y_pred = df['OLS'] >= threshold\n",
        "\n",
        "  # add test set predictions to dictionary\n",
        "  d[threshold] = [f1_score(y_actual[train_test_split_index:], y_pred[train_test_split_index:]),precision_score(y_actual[train_test_split_index:], y_pred[train_test_split_index:]),\n",
        "                  recall_score(y_actual[train_test_split_index:], y_pred[train_test_split_index:]),accuracy_score(y_actual[train_test_split_index:], y_pred[train_test_split_index:])]\n",
        "# --------------------------------------------------------------------"
      ]
    },
    {
      "cell_type": "code",
      "execution_count": null,
      "metadata": {
        "id": "pRTljbjLB3ZH",
        "colab": {
          "base_uri": "https://localhost:8080/",
          "height": 332
        },
        "outputId": "7f1374e7-449a-4c34-fdd3-3573cced9ee4"
      },
      "outputs": [
        {
          "output_type": "execute_result",
          "data": {
            "text/plain": [
              "<matplotlib.legend.Legend at 0x7f8f7804f490>"
            ]
          },
          "metadata": {},
          "execution_count": 24
        },
        {
          "output_type": "display_data",
          "data": {
            "text/plain": [
              "<Figure size 400x300 with 1 Axes>"
            ],
            "image/png": "[encoded data removed]"
          },
          "metadata": {}
        }
      ],
      "source": [
        "# create plot --------------------------------------------------------\n",
        "\n",
        "# set image parameters\n",
        "sns.set_style(\"white\")\n",
        "plt.rcParams[\"figure.figsize\"] = (4,3)\n",
        "plt.rcParams[\"figure.dpi\"] = 100\n",
        "plt.rcParams[\"font.family\"] = \"monospace\"\n",
        "\n",
        "# plot each series\n",
        "plt.plot(np.linspace(0,1,201),[x[0] for x in list(d.values())],label='F-Score',linestyle='-',c='black',linewidth=3)\n",
        "plt.plot(np.linspace(0,1,201),[x[3] for x in list(d.values())],label='Accuracy',linestyle=':',c='black',linewidth=3)\n",
        "\n",
        "# plot score-maximizing vertical lines\n",
        "plt.vlines(0.37,0,1,linestyle='-')\n",
        "plt.vlines(0.5,0,1,linestyle=':')\n",
        "plt.xlabel('Threshold')\n",
        "plt.ylabel('Value')\n",
        "plt.legend()\n",
        "# --------------------------------------------------------------------"
      ]
    },
    {
      "cell_type": "code",
      "execution_count": null,
      "metadata": {
        "id": "Yk0eKjc5EFvn",
        "colab": {
          "base_uri": "https://localhost:8080/"
        },
        "outputId": "99d77a23-f6c3-4578-b4d8-67ec06791830"
      },
      "outputs": [
        {
          "output_type": "execute_result",
          "data": {
            "text/plain": [
              "0.37    0.738811\n",
              "Name: 0, dtype: float64"
            ]
          },
          "metadata": {},
          "execution_count": 25
        }
      ],
      "source": [
        "# get best F-score\n",
        "matrix = pd.DataFrame(d).T\n",
        "matrix[matrix[0]==max(matrix[0])][0]"
      ]
    },
    {
      "cell_type": "code",
      "execution_count": null,
      "metadata": {
        "id": "pMxFTxVoEkry",
        "colab": {
          "base_uri": "https://localhost:8080/"
        },
        "outputId": "cd9901ab-3672-4529-8dfe-3761ec6d051c"
      },
      "outputs": [
        {
          "output_type": "execute_result",
          "data": {
            "text/plain": [
              "0.5    0.723601\n",
              "Name: 3, dtype: float64"
            ]
          },
          "metadata": {},
          "execution_count": 39
        }
      ],
      "source": [
        "# get best accuracy\n",
        "matrix[matrix[3]==max(matrix[3])][3]"
      ]
    },
    {
      "cell_type": "code",
      "execution_count": null,
      "metadata": {
        "id": "eFkeh8nfyMwI",
        "colab": {
          "base_uri": "https://localhost:8080/",
          "height": 332
        },
        "outputId": "0d83c549-3d88-4efc-e58e-d4d1c26c9c95"
      },
      "outputs": [
        {
          "output_type": "execute_result",
          "data": {
            "text/plain": [
              "Text(0, 0.5, 'Frequency')"
            ]
          },
          "metadata": {},
          "execution_count": 32
        },
        {
          "output_type": "display_data",
          "data": {
            "text/plain": [
              "<Figure size 400x300 with 1 Axes>"
            ],
            "image/png": "[encoded data removed]"
          },
          "metadata": {}
        }
      ],
      "source": [
        "# create dual histogram plot -----------------------------------------\n",
        "df2 = df.iloc[train_test_split_index:]\n",
        "plt.hist(df2[df2['label']==1]['OLS'],label='Boundary',bins=20,log=False, edgecolor='black',color='lightgray')\n",
        "plt.hist(df2[df2['label']==0]['OLS'],label='No Boundary',bins=20,log=False,hatch='\\\\\\\\\\\\\\\\', edgecolor='black',fill=False)\n",
        "\n",
        "plt.legend(loc='upper right',prop={'size': 8})\n",
        "plt.xlabel('OLS Output')\n",
        "plt.ylabel('Frequency')\n",
        "# --------------------------------------------------------------------"
      ]
    },
    {
      "cell_type": "markdown",
      "metadata": {
        "id": "8e5Xkm_Skbt3"
      },
      "source": [
        "# Predictions with evaluation transcripts (use inference tutorial for untranscribed audio)"
      ]
    },
    {
      "cell_type": "code",
      "execution_count": null,
      "metadata": {
        "id": "jCj1szqMkOaq"
      },
      "outputs": [],
      "source": [
        "# path to resampled discourse audio\n",
        "init_path = 'drive/Shareddrives/Ling Thesis/resampled/'\n",
        "\n",
        "# get name of each file\n",
        "fs = os.listdir(init_path)\n",
        "\n",
        "# merge names with path to generate full path\n",
        "fs = [init_path + x for x in fs]"
      ]
    },
    {
      "cell_type": "code",
      "source": [
        "import os\n",
        "import numpy as np\n",
        "import matplotlib.pyplot as plt\n",
        "import pandas as pd\n",
        "import re\n",
        "import librosa   \n",
        "import pickle\n",
        "\n",
        "def get_boundaries(fpath):\n",
        "  '''Parse .cha file and extract timestamps'''\n",
        "\n",
        "  # read in file as string\n",
        "  with open(fpath) as f: \n",
        "    t = f.read()\n",
        "\n",
        "  # split at occurences of \\x15 unicode character (denote beginning/end of timestamp)\n",
        "  a = t.split('\\x15') \n",
        "\n",
        "  # get odd numbered values (in between the break chars)\n",
        "  IUs = [x for i,x in enumerate(a) if i%2==1]\n",
        "\n",
        "  # split substrings by underscore to separate beginning and end\n",
        "  boundaries = [x.split('_') for x in IUs]\n",
        "\n",
        "  # for each boundary, store time values\n",
        "  a = []\n",
        "  for b in boundaries:\n",
        "    a.append(int(b[0]))\n",
        "    a.append(int(b[1]))\n",
        "\n",
        "  # sort extracted bounds\n",
        "  boundaries = sorted(list(set(a))) \n",
        "\n",
        "  # convert to seconds\n",
        "  boundaries = (np.array(boundaries))/1000 \n",
        "  return boundaries\n",
        "\n",
        "\n",
        "\n",
        "def moving_average(a, n=200):\n",
        "  '''smooths input array with a window of n'''\n",
        "\n",
        "  # get cumulative sum for each point\n",
        "  ret = np.cumsum(a, dtype=float)\n",
        "  ret[n:] = ret[n:] - ret[:-n]\n",
        "  return ret[n - 1:] / n\n",
        "\n",
        "\n",
        "\n",
        "def bound_opts(audio_array,transcribed_bounds, start):\n",
        "  '''Returns true and false IU heuristic boundaries \\ngiven array-type audio data and transcribed labels'''\n",
        "  \n",
        "  # remove sign and smooth out noise\n",
        "  abs_arr = moving_average(np.abs(audio_array),n=200) \n",
        "\n",
        "  # take every nth value\n",
        "  abs_arr = abs_arr[::200] \n",
        "\n",
        "  # if value is smaller than it's neighbors, append to list of potential bounds\n",
        "  t_f = (abs_arr<np.roll(abs_arr,1))&(abs_arr<np.roll(abs_arr,-1)) \n",
        "\n",
        "  # returns indicies of potential bounds\n",
        "  boundary_options = np.where(t_f==1)[0] \n",
        "\n",
        "  # algorithm: if removing a boundary wouldn't include meaningful sound, then remove it\n",
        "  for j in range(len(boundary_options)): \n",
        "    for i,b in enumerate(boundary_options):\n",
        "      if i < len(boundary_options)-2:\n",
        "\n",
        "        # arbitrary pause threshold of the standard deviation of abs values divided by 5\n",
        "        if max(abs_arr[b:boundary_options[i+2]]) < np.std(abs_arr)/5: \n",
        "          boundary_options = np.delete(boundary_options, [i+1], axis=0)\n",
        "\n",
        "  # realign heuristic bounds to initial sample rate\n",
        "  boundary_options = boundary_options*200+100 + start\n",
        "  \n",
        "  # to apply heuristic only\n",
        "  if type(transcribed_bounds) == bool:\n",
        "    if transcribed_bounds == False:\n",
        "      return boundary_options\n",
        "\n",
        "  # snap transcribed bounds to closest heuristic bound\n",
        "  true_labels = []\n",
        "  for t_b in transcribed_bounds:\n",
        "    abs_diff = np.abs(boundary_options-t_b)\n",
        "    m = np.argmin(abs_diff)\n",
        "    if m <= 400:\n",
        "      true_labels.append(m)\n",
        "\n",
        "  # append true and false labels by index\n",
        "  false_labels = np.array([boundary_options[i] for i in range(len(boundary_options)) if i not in true_labels])\n",
        "  true_labels = np.array([boundary_options[i] for i in range(len(boundary_options)) if i in true_labels])\n",
        "\n",
        "  return true_labels, false_labels\n",
        "\n",
        "\n",
        "\n",
        "def gen_data(audio_array, boundaries, plot=False):\n",
        "  '''generates boundary position and label for audio file and accompanying boundaries'''\n",
        "\n",
        "  # define number of 5-second segments (and one final partial segment with remainder)\n",
        "  segments = int(np.ceil(len(audio_array)/20000)) \n",
        "\n",
        "  # initialize X and y\n",
        "  X, y = [],[]\n",
        "\n",
        "  # get true and false boundaries for each segment\n",
        "  for i in range(segments):\n",
        "\n",
        "    # segments defined by start and stop sample number\n",
        "    start, stop = (20000*i,20000*(i+1))\n",
        "\n",
        "    # subset complete audio file to isolate chunk\n",
        "    chunk = audio_array[start:stop]\n",
        "\n",
        "    # relevant boundaries only exist with the segment\n",
        "    bound_set = boundaries[np.where(np.logical_and(boundaries>=start, boundaries<=stop))[0]]\n",
        "\n",
        "    # concatenate all segment data together\n",
        "    try: #catches case where segment contains no potential boundaries\n",
        "      true_labels, false_labels = bound_opts(chunk, bound_set, start)\n",
        "\n",
        "      X += list(true_labels) #preserve order of features\n",
        "      X += list(false_labels)\n",
        "      y += [1]*len(true_labels) #... and labels\n",
        "      y += [0]*len(false_labels)\n",
        "\n",
        "      # plots each segment if specified\n",
        "      if plot: \n",
        "\n",
        "        # plot audio\n",
        "        plt.plot(range(start,stop),chunk)\n",
        "\n",
        "        # plot false potential boundaries\n",
        "        plt.vlines(false_labels,np.min(chunk),np.max(chunk),linewidth=2,color='r')\n",
        "\n",
        "        # plot true potential boundaries\n",
        "        plt.vlines(true_labels,np.min(chunk),np.max(chunk),linewidth=2,color='g')\n",
        "\n",
        "        # plot unaltered timestamps\n",
        "        plt.vlines(bound_set,np.min(chunk),np.max(chunk),linewidth=2,linestyle='--')\n",
        "        plt.show()\n",
        "\n",
        "    except Exception as E: # empty segment cases are ignored\n",
        "      # print(E)\n",
        "      pass\n",
        "    \n",
        "  return np.array(X), np.array(y)\n",
        "\n",
        "\n",
        "\n",
        "def return_feats(MFCC, X, hop_length, n_frames):\n",
        "  '''defines window ranges for relevant MFCC data'''\n",
        "  \n",
        "  # boundary data from 156 frame radius (312 total)\n",
        "  R_3 = MFCC[:,int(np.floor(X/hop_length))-round(n_frames/2):int(np.floor(X/hop_length))+round(n_frames/2)]\n",
        "\n",
        "  return R_3\n",
        "\n",
        "\n",
        "\n",
        "def MFCC_preprocess(audio_array, boundaries, hop_length=32, n_mfcc = 12, n_fft=743, n_frames = 312, normalize=True):\n",
        "  '''returns preprocessed MFCC data for an audio file'''\n",
        "\n",
        "  # initialize empty lists to append data to\n",
        "  boundary_mfcc, labels, usable_bounds = [],[],[]\n",
        "\n",
        "  # store length of audio (in samples)\n",
        "  l = len(audio_array)\n",
        "\n",
        "  # generate MFCC (n_fft proportional to 2048 @ 22050hz)\n",
        "  MFCC = librosa.feature.mfcc(audio_array, n_mfcc = n_mfcc, n_fft=n_fft, hop_length=hop_length)\n",
        "\n",
        "  # normalize MFCC\n",
        "  if normalize:\n",
        "    MFCC = ((MFCC.T-MFCC.mean(axis=1))/MFCC.std(axis=1)).T\n",
        "\n",
        "  # store X and y from data generation function\n",
        "  X, y = gen_data(audio_array, boundaries, plot=False)\n",
        "        \n",
        "  # append data to corresponding lists\n",
        "  for feat,lab in zip(X,y):\n",
        "\n",
        "    # buffer defined as total sampled needed (number of frames * len of each frame)\n",
        "    buffer = n_frames*hop_length\n",
        "    \n",
        "    \n",
        "    # only run boundaries which can be fully evaluated\n",
        "    if (feat > buffer)&(feat<(l-buffer)):\n",
        "      usable_bounds.append(feat)\n",
        "\n",
        "      # generate pre/post/boundary segments\n",
        "      R_3 = return_feats(MFCC, feat, hop_length, n_frames)\n",
        "\n",
        "      # append to lists\n",
        "      boundary_mfcc.append(R_3)\n",
        "      labels.append(lab)\n",
        "\n",
        "  # convert lists to numpy arrays\n",
        "  boundary_mfcc = np.array(boundary_mfcc)\n",
        "  labels = np.array(labels)\n",
        "  usable_bounds = np.array(usable_bounds)\n",
        "\n",
        "  return boundary_mfcc, labels, usable_bounds"
      ],
      "metadata": {
        "id": "-4ks4lkTsrUA"
      },
      "execution_count": null,
      "outputs": []
    },
    {
      "cell_type": "code",
      "execution_count": null,
      "metadata": {
        "colab": {
          "base_uri": "https://localhost:8080/"
        },
        "id": "oav_w8Uvk2Em",
        "outputId": "b59cabc6-9965-4360-d20c-a4feecc1c456"
      },
      "outputs": [
        {
          "output_type": "stream",
          "name": "stdout",
          "text": [
            "Cloning into 'ProsodPy'...\n",
            "remote: Enumerating objects: 208, done.\u001b[K\n",
            "remote: Counting objects: 100% (32/32), done.\u001b[K\n",
            "remote: Compressing objects: 100% (32/32), done.\u001b[K\n",
            "remote: Total 208 (delta 14), reused 0 (delta 0), pack-reused 176\u001b[K\n",
            "Receiving objects: 100% (208/208), 22.99 MiB | 13.56 MiB/s, done.\n",
            "Resolving deltas: 100% (84/84), done.\n"
          ]
        }
      ],
      "source": [
        "try:\n",
        "  shutil.rmtree('ProsodPy')\n",
        "except:\n",
        "  pass\n",
        "!git clone https://github.com/Nathan-Roll1/ProsodPy\n",
        "\n",
        "from ProsodPy.ProsodPy import *"
      ]
    },
    {
      "cell_type": "code",
      "execution_count": null,
      "metadata": {
        "id": "mYRwt2v1r1S4"
      },
      "outputs": [],
      "source": [
        "def boundary_heuristic(audio_array):\n",
        "  '''return all heuristic boundaries for an input audio array'''\n",
        "\n",
        "  # define number of 20k sample \"chunks\"\n",
        "  segments = int(np.ceil(len(audio_array)/20000))\n",
        "\n",
        "  # initialize empty boundary list\n",
        "  bounds = []\n",
        "\n",
        "  # for each segment\n",
        "  for i in range(segments):\n",
        "\n",
        "    # identify start and stop samples\n",
        "    start, stop = (20000*i,20000*(i+1))\n",
        "\n",
        "    # define chunk\n",
        "    chunk = audio_array[start:stop]\n",
        "\n",
        "    # run algorith\n",
        "    potential_bounds = bound_opts(chunk, False,start)\n",
        "\n",
        "    # append identified boundaries to list\n",
        "    bounds.append(potential_bounds) \n",
        "\n",
        "  # merge boundaries together\n",
        "  bounds = np.concatenate(bounds)\n",
        "\n",
        "  return bounds"
      ]
    },
    {
      "cell_type": "code",
      "execution_count": null,
      "metadata": {
        "id": "7lzHqQTOkmz9"
      },
      "outputs": [],
      "source": [
        "with open(fs[0], 'rb') as handle:\n",
        "  audio_array = pickle.load(handle)"
      ]
    },
    {
      "cell_type": "code",
      "execution_count": null,
      "metadata": {
        "id": "AJ9FTzJutckX"
      },
      "outputs": [],
      "source": [
        "unsupervised_bounds = np.array([0])\n",
        "boundary_mfcc, __, boundaries = MFCC_preprocess(audio_array, unsupervised_bounds, hop_length=16, n_mfcc = 15, n_fft=743, n_frames = 1024)"
      ]
    },
    {
      "cell_type": "code",
      "source": [
        "boundary_mfcc = boundary_mfcc.transpose(0,2,1)\n",
        "h = boundary_mfcc.shape[1]/2\n",
        "lower_mid, upper_mid = int(h-h/2),int(h+h/2)"
      ],
      "metadata": {
        "id": "gLkRaxEXEUdT"
      },
      "execution_count": null,
      "outputs": []
    },
    {
      "cell_type": "code",
      "execution_count": null,
      "metadata": {
        "id": "8N5eV3xcxxoy"
      },
      "outputs": [],
      "source": [
        "with open('drive/Shareddrives/Ling Thesis/Final Models/feed_order.pickle', 'rb') as handle:\n",
        "  feed_order = pickle.load(handle)"
      ]
    },
    {
      "cell_type": "code",
      "source": [
        "models = os.listdir('/content/drive/Shareddrives/Ling Thesis/Final Models')"
      ],
      "metadata": {
        "id": "IDgX5zspDqvm"
      },
      "execution_count": null,
      "outputs": []
    },
    {
      "cell_type": "code",
      "source": [
        "outputs_dict = {}\n",
        "\n",
        "for k, s in tqdm(set_indices.items()):\n",
        "  mods = [x for x in models if (k in x)&(not f'h_{k}' in x)]\n",
        "  for m in mods:\n",
        "    r = tf.keras.models.load_model('/content/drive/Shareddrives/Ling Thesis/Final Models/'+m)\n",
        "    if 'cnn' in m:\n",
        "      t = 'cnn'\n",
        "      outputs_dict[f'{k}_{t}'] = r.predict(np.expand_dims(eval(f'boundary_mfcc{s}'),3))\n",
        "    else:\n",
        "      t = 'rnn'\n",
        "      outputs_dict[f'{k}_{t}'] = r.predict(eval(f'boundary_mfcc{s}'))"
      ],
      "metadata": {
        "colab": {
          "base_uri": "https://localhost:8080/"
        },
        "id": "FI0m9GoeEAYs",
        "outputId": "cc25e98f-bdcb-48a2-c71a-df7ec611892b"
      },
      "execution_count": null,
      "outputs": [
        {
          "output_type": "stream",
          "name": "stderr",
          "text": [
            "100%|██████████| 6/6 [00:46<00:00,  7.78s/it]\n"
          ]
        }
      ]
    },
    {
      "cell_type": "code",
      "source": [
        "df = pd.DataFrame()\n",
        "\n",
        "for c,d in outputs_dict.items():\n",
        "  df[c] = [x[0] for x in d]\n",
        "df.index = boundaries"
      ],
      "metadata": {
        "id": "6UfEkreEFNRw"
      },
      "execution_count": null,
      "outputs": []
    },
    {
      "cell_type": "code",
      "source": [
        "with open('/content/drive/Shareddrives/Ling Thesis/Final Models/OLS.pickle', 'rb') as handle:\n",
        "  OLS = pickle.load(handle)"
      ],
      "metadata": {
        "id": "Jk5ZpMr2HdcH"
      },
      "execution_count": null,
      "outputs": []
    },
    {
      "cell_type": "code",
      "source": [
        "df['pred'] = OLS.predict(df[feed_order].values)"
      ],
      "metadata": {
        "id": "3Bt-whuUI5or"
      },
      "execution_count": null,
      "outputs": []
    },
    {
      "cell_type": "code",
      "execution_count": null,
      "metadata": {
        "id": "kP3DqvNF888O"
      },
      "outputs": [],
      "source": [
        "text_path = 'drive/Shareddrives/Rezonator Data/SBCSAE/'\n",
        "\n",
        "# get matching transcript file\n",
        "tt = fs[0].split('/')[-1].split('_')[0]\n",
        "txt = text_path + tt +'.cha'\n",
        "\n",
        "# identify boundary timestamps\n",
        "transcribed_boundaries = get_boundaries(txt)*8000"
      ]
    },
    {
      "cell_type": "code",
      "execution_count": null,
      "metadata": {
        "id": "O5gJ0MZl1dqL"
      },
      "outputs": [],
      "source": [
        "def joint_success_waveform_plot(begin_range=1,end_range=3):\n",
        "\n",
        "  begin_range , end_range = (1, 3)\n",
        "\n",
        "  plt.rcParams[\"figure.dpi\"] = 250\n",
        "  plt.rcParams[\"figure.figsize\"] = (4,2.5*(end_range-begin_range)/6)\n",
        "\n",
        "  fig, axs = plt.subplots(end_range-begin_range, 1)\n",
        "\n",
        "\n",
        "  for i,t in enumerate([0.37,0.5]):\n",
        "    start, stop = (16000,16000*(2))\n",
        "    transcribed_bound_mask = np.where((transcribed_boundaries<stop)&(transcribed_boundaries>start))[0]\n",
        "    mask = np.where((boundaries<stop)&(boundaries>start))[0]\n",
        "    mask_t = np.where(df['pred'].values[mask]>t)[0]\n",
        "    mask_f = np.where(df['pred'].values[mask]<=t)[0]\n",
        "    chunk = audio_array[start:stop]\n",
        "    axs[i].plot(chunk, c='black', alpha=1)\n",
        "    axs[i].vlines(transcribed_boundaries[transcribed_bound_mask]-start, min(chunk)*(1.35), max(chunk)*(1.35), linewidth=1,zorder=5,color='black', label='true')\n",
        "    axs[i].vlines(boundaries[mask][mask_t]-start, min(chunk)*(1.35), max(chunk)*(1.35), linestyles=':', linewidth=1,zorder=3,color='black', label='pred')\n",
        "    # axs[i].vlines(boundaries[mask][mask_f]-start, min(chunk)*(1.35), max(chunk)*(1.35), linestyles=':', linewidth=1,zorder=3,color='red', label='pred')\n",
        "    axs[i].axis('off')"
      ]
    },
    {
      "cell_type": "code",
      "source": [
        "joint_success_waveform_plot()"
      ],
      "metadata": {
        "colab": {
          "base_uri": "https://localhost:8080/",
          "height": 224
        },
        "id": "Ryiw3lHCuLxs",
        "outputId": "dd22c21f-0503-405f-afb3-9e4d17b7be8f"
      },
      "execution_count": null,
      "outputs": [
        {
          "output_type": "display_data",
          "data": {
            "text/plain": [
              "<Figure size 1000x208.333 with 2 Axes>"
            ],
            "image/png": "[encoded data removed]"
          },
          "metadata": {}
        }
      ]
    },
    {
      "cell_type": "code",
      "execution_count": null,
      "metadata": {
        "colab": {
          "base_uri": "https://localhost:8080/",
          "height": 162
        },
        "id": "qlmXRalNXpji",
        "outputId": "1f3642e3-7237-42e8-b551-7e834357c5bf"
      },
      "outputs": [
        {
          "output_type": "execute_result",
          "data": {
            "text/plain": [
              "(-799.95, 16798.95, -0.5699879644811153, 0.6474624185264111)"
            ]
          },
          "metadata": {},
          "execution_count": 59
        },
        {
          "output_type": "display_data",
          "data": {
            "text/plain": [
              "<Figure size 1000x104.167 with 1 Axes>"
            ],
            "image/png": "[encoded data removed]"
          },
          "metadata": {}
        }
      ],
      "source": [
        "plt.rcParams[\"figure.figsize\"] = (4,2.5/6)\n",
        "i = 1\n",
        "start, stop = (16000*i,16000*(i+1))\n",
        "transcribed_bound_mask = np.where((transcribed_boundaries<stop)&(transcribed_boundaries>start))[0]\n",
        "mask = np.where((boundaries<stop)&(boundaries>start))[0]\n",
        "mask_t = np.where(df['pred'].values[mask]>0.37)[0]\n",
        "mask_f = np.where(df['pred'].values[mask]<=0.37)[0]\n",
        "i = i - begin_range\n",
        "chunk = audio_array[start:stop]\n",
        "plt.plot(chunk, c='black', alpha=1)\n",
        "plt.vlines(transcribed_boundaries[transcribed_bound_mask]-start, min(chunk)*(1.35), max(chunk)*(1.35), linewidth=1,zorder=5,color='black', label='true')\n",
        "plt.vlines(boundaries[mask][mask_t]-start, min(chunk)*(1.35), max(chunk)*(1.35), linestyles=':', linewidth=1,zorder=3,color='black', label='pred')\n",
        "# axs[i].vlines(boundaries[mask][mask_f]-start, min(chunk)*(1.35), max(chunk)*(1.35), linestyles=':', linewidth=1,zorder=3,color='red', label='pred')\n",
        "plt.axis('off')"
      ]
    },
    {
      "cell_type": "code",
      "execution_count": null,
      "metadata": {
        "id": "Z4kTRnRv8tNA"
      },
      "outputs": [],
      "source": [
        ""
      ]
    },
    {
      "cell_type": "code",
      "execution_count": null,
      "metadata": {
        "colab": {
          "base_uri": "https://localhost:8080/"
        },
        "id": "Vaiiuzg0yseD",
        "outputId": "093b0572-7201-4eb9-a0af-e78d519558a5"
      },
      "outputs": [
        {
          "data": {
            "text/plain": [
              "1667.014"
            ]
          },
          "execution_count": 132,
          "metadata": {},
          "output_type": "execute_result"
        }
      ],
      "source": [
        "boundaries[-1]"
      ]
    },
    {
      "cell_type": "code",
      "execution_count": null,
      "metadata": {
        "colab": {
          "base_uri": "https://localhost:8080/"
        },
        "id": "ATxe1XNXy0dj",
        "outputId": "474ea984-cf47-4d25-9c67-746bc5544c13"
      },
      "outputs": [
        {
          "data": {
            "text/plain": [
              "array([0.42756245, 0.48549858, 0.84408   , ..., 0.25021777, 0.1543543 ,\n",
              "       0.04642138], dtype=float32)"
            ]
          },
          "execution_count": 120,
          "metadata": {},
          "output_type": "execute_result"
        }
      ],
      "source": [
        "preds"
      ]
    },
    {
      "cell_type": "code",
      "execution_count": null,
      "metadata": {
        "id": "SpaM6pBSy8Ng"
      },
      "outputs": [],
      "source": [
        ""
      ]
    }
  ],
  "metadata": {
    "accelerator": "GPU",
    "colab": {
      "background_execution": "on",
      "collapsed_sections": [
        "wNUd0jkLz7Qd",
        "Y-oYnh01u5Ep"
      ],
      "machine_shape": "hm",
      "name": "prep_training_evaluation",
      "provenance": [],
      "include_colab_link": true
    },
    "gpuClass": "standard",
    "kernelspec": {
      "display_name": "Python 3",
      "name": "python3"
    },
    "language_info": {
      "name": "python"
    }
  },
  "nbformat": 4,
  "nbformat_minor": 0
}