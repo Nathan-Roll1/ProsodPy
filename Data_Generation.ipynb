{
  "nbformat": 4,
  "nbformat_minor": 0,
  "metadata": {
    "colab": {
      "name": "Data Generation",
      "provenance": [],
      "authorship_tag": "ABX9TyPuzArmevxfsymstlMOePcf",
      "include_colab_link": true
    },
    "kernelspec": {
      "name": "python3",
      "display_name": "Python 3"
    },
    "language_info": {
      "name": "python"
    }
  },
  "cells": [
    {
      "cell_type": "markdown",
      "metadata": {
        "id": "view-in-github",
        "colab_type": "text"
      },
      "source": [
        "<a href=\"https://colab.research.google.com/github/Nathan-Roll1/ProsodPy/blob/main/Data_Generation.ipynb\" target=\"_parent\"><img src=\"https://colab.research.google.com/assets/colab-badge.svg\" alt=\"Open In Colab\"/></a>"
      ]
    },
    {
      "cell_type": "code",
      "source": [
        "from google.colab import drive\n",
        "drive.mount('/content/drive')"
      ],
      "metadata": {
        "id": "Ut8CQNbTTrCk"
      },
      "execution_count": null,
      "outputs": []
    },
    {
      "cell_type": "code",
      "source": [
        "!git clone https://github.com/Nathan-Roll1/ProsodPy\n",
        "\n",
        "from ProsodPy import ProsodPy\n",
        "import os\n",
        "import numpy as np\n",
        "import matplotlib.pyplot as plt\n",
        "import pandas as pd\n",
        "import re\n",
        "import librosa   \n",
        "import pickle\n",
        "\n",
        "plt.rcParams[\"figure.figsize\"] = (20,3)"
      ],
      "metadata": {
        "colab": {
          "base_uri": "https://localhost:8080/"
        },
        "id": "oMfuzl3UTTz_",
        "outputId": "9f4d174b-c7be-4927-e35d-2e2a98c6bca4"
      },
      "execution_count": 2,
      "outputs": [
        {
          "output_type": "stream",
          "name": "stdout",
          "text": [
            "fatal: destination path 'ProsodPy' already exists and is not an empty directory.\n"
          ]
        },
        {
          "output_type": "stream",
          "name": "stderr",
          "text": [
            "/usr/local/lib/python3.7/dist-packages/resampy/interpn.py:114: NumbaWarning: The TBB threading layer requires TBB version 2019.5 or later i.e., TBB_INTERFACE_VERSION >= 11005. Found TBB_INTERFACE_VERSION = 9107. The TBB threading layer is disabled.\n",
            "  _resample_loop_p(x, t_out, interp_win, interp_delta, num_table, scale, y)\n"
          ]
        }
      ]
    },
    {
      "cell_type": "code",
      "source": [
        "init_path = 'drive/Shareddrives/Ling Thesis/resampled/'\n",
        "fs = os.listdir(init_path)\n",
        "fs = [init_path + x for x in fs]"
      ],
      "metadata": {
        "id": "b_13umE9TexQ"
      },
      "execution_count": null,
      "outputs": []
    },
    {
      "cell_type": "code",
      "source": [
        "for n, f in enumerate(fs):\n",
        "  print(n,f)\n",
        "  text_path = 'drive/Shareddrives/Rezonator Data/SBCSAE/'\n",
        "  tt = f.split('/')[-1].split('_')[0]\n",
        "  txt = text_path + tt +'.cha'\n",
        "  boundaries = ProsodPy.get_boundaries(txt)\n",
        "  boundaries = boundaries*8000 # Adjust for 8k sample rate\n",
        "\n",
        "  with open(f, 'rb') as handle:\n",
        "    audio_array = pickle.load(handle)\n",
        "    \n",
        "  pre_mfcc, post_mfcc, boundary_mfcc, labels = ProsodPy.MFCC_preprocess(audio_array, boundaries)\n",
        "\n",
        "  size = sum(labels==1)\n",
        "  indicies = list(np.random.choice(np.where(labels == 0)[0], int(size))) #Generate (n) Random False Labels\n",
        "  indicies += list(np.where(labels == 1)[0]) #Create Balanced Mask\n",
        "\n",
        "  labels = labels[indicies] #Apply Mask to Labels\n",
        "  pre_mfcc = pre_mfcc[indicies]\n",
        "  post_mfcc = post_mfcc[indicies]\n",
        "  boundary_mfcc = boundary_mfcc[indicies]\n",
        "\n",
        "  for t in ['pre_mfcc','post_mfcc','boundary_mfcc']:\n",
        "    with open(f'drive/Shareddrives/Ling Thesis/PREPROCESSED/{t}/{tt}_cont.pickle', 'wb') as handle:\n",
        "      pickle.dump(globals()[t], handle, protocol=pickle.HIGHEST_PROTOCOL)\n",
        "\n",
        "  with open(f'drive/Shareddrives/Ling Thesis/PREPROCESSED/labels/{tt}_cont.pickle', 'wb') as handle:\n",
        "    pickle.dump(labels, handle, protocol=pickle.HIGHEST_PROTOCOL)"
      ],
      "metadata": {
        "id": "jiIG5XaOfGeV"
      },
      "execution_count": null,
      "outputs": []
    }
  ]
}