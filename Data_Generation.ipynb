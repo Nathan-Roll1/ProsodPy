{
  "nbformat": 4,
  "nbformat_minor": 0,
  "metadata": {
    "colab": {
      "name": "Data Generation",
      "provenance": [],
      "authorship_tag": "ABX9TyOyrXmo92qUdyPvSWC5AP/T",
      "include_colab_link": true
    },
    "kernelspec": {
      "name": "python3",
      "display_name": "Python 3"
    },
    "language_info": {
      "name": "python"
    }
  },
  "cells": [
    {
      "cell_type": "markdown",
      "metadata": {
        "id": "view-in-github",
        "colab_type": "text"
      },
      "source": [
        "<a href=\"https://colab.research.google.com/github/Nathan-Roll1/ProsodPy/blob/main/Data_Generation.ipynb\" target=\"_parent\"><img src=\"https://colab.research.google.com/assets/colab-badge.svg\" alt=\"Open In Colab\"/></a>"
      ]
    },
    {
      "cell_type": "code",
      "source": [
        "# Mount necessary data files from Google Drive\n",
        "from google.colab import drive\n",
        "drive.mount('/content/drive')"
      ],
      "metadata": {
        "id": "Ut8CQNbTTrCk"
      },
      "execution_count": null,
      "outputs": []
    },
    {
      "cell_type": "code",
      "source": [
        "# Clone __init__.py functions for preprocessing\n",
        "!git clone https://github.com/Nathan-Roll1/ProsodPy\n",
        "\n",
        "from ProsodPy.ProsodPy import *\n",
        "import os\n",
        "import numpy as np\n",
        "import matplotlib.pyplot as plt\n",
        "import pandas as pd\n",
        "import re\n",
        "import librosa   \n",
        "import pickle\n",
        "\n",
        "# plotting options intended for 20x3 dimensions\n",
        "plt.rcParams[\"figure.figsize\"] = (20,3)"
      ],
      "metadata": {
        "id": "oMfuzl3UTTz_"
      },
      "execution_count": null,
      "outputs": []
    },
    {
      "cell_type": "code",
      "source": [
        "# path to resampled discourse audio\n",
        "init_path = 'drive/Shareddrives/Ling Thesis/resampled/'\n",
        "\n",
        "# get name of each file\n",
        "fs = os.listdir(init_path)\n",
        "\n",
        "# merge names with path to generate full path\n",
        "fs = [init_path + x for x in fs]"
      ],
      "metadata": {
        "id": "b_13umE9TexQ"
      },
      "execution_count": 7,
      "outputs": []
    },
    {
      "cell_type": "code",
      "source": [
        "# path to transcripts\n",
        "text_path = 'drive/Shareddrives/Rezonator Data/SBCSAE/'\n",
        "\n",
        "# for every audio file...\n",
        "for n, f in enumerate(fs):\n",
        "  print(n,f)\n",
        "\n",
        "  # get matching transcript file\n",
        "  tt = f.split('/')[-1].split('_')[0]\n",
        "  txt = text_path + tt +'.cha'\n",
        "\n",
        "  # identify boundary timestamps\n",
        "  boundaries = get_boundaries(txt)\n",
        "\n",
        "  # adjust for 8k sample rate\n",
        "  boundaries = boundaries*8000 \n",
        "\n",
        "  # load audio file\n",
        "  with open(f, 'rb') as handle:\n",
        "    audio_array = pickle.load(handle)\n",
        "    \n",
        "  # generate features and labels\n",
        "  pre_mfcc, post_mfcc, boundary_mfcc, labels = MFCC_preprocess(audio_array, boundaries)\n",
        "\n",
        "  # negative sample false labels to equalize classes\n",
        "  size = sum(labels==1)\n",
        "  indicies = list(np.random.choice(np.where(labels == 0)[0], int(size)))\n",
        "  indicies += list(np.where(labels == 1)[0])\n",
        "\n",
        "  # apply selected indices to featuresets and labels\n",
        "  labels = labels[indicies] \n",
        "  pre_mfcc = pre_mfcc[indicies]\n",
        "  post_mfcc = post_mfcc[indicies]\n",
        "  boundary_mfcc = boundary_mfcc[indicies]\n",
        "\n",
        "  # save features\n",
        "  for t in ['pre_mfcc','post_mfcc','boundary_mfcc']:\n",
        "    with open(f'drive/Shareddrives/Ling Thesis/PREPROCESSED/{t}/{tt}_cont.pickle', 'wb') as handle:\n",
        "      pickle.dump(globals()[t], handle, protocol=pickle.HIGHEST_PROTOCOL)\n",
        "\n",
        "  # save labels\n",
        "  with open(f'drive/Shareddrives/Ling Thesis/PREPROCESSED/labels/{tt}_cont.pickle', 'wb') as handle:\n",
        "    pickle.dump(labels, handle, protocol=pickle.HIGHEST_PROTOCOL)"
      ],
      "metadata": {
        "id": "jiIG5XaOfGeV"
      },
      "execution_count": null,
      "outputs": []
    },
    {
      "cell_type": "code",
      "source": [
        ""
      ],
      "metadata": {
        "id": "Wu9FSlIRjwJE"
      },
      "execution_count": null,
      "outputs": []
    }
  ]
}